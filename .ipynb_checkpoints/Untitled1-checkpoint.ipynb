{
 "cells": [
  {
   "cell_type": "code",
   "execution_count": 7,
   "id": "493fcb3c",
   "metadata": {},
   "outputs": [
    {
     "name": "stderr",
     "output_type": "stream",
     "text": [
      "Batches: 100%|██████████| 1895/1895 [00:48<00:00, 38.89it/s]\n"
     ]
    },
    {
     "name": "stdout",
     "output_type": "stream",
     "text": [
      "(60632, 384)\n"
     ]
    }
   ],
   "source": [
    "import pandas as pd\n",
    "import numpy as np\n",
    "from sentence_transformers import SentenceTransformer\n",
    "\n",
    "df = pd.read_csv(\"Dev/sentiment_analysis/data/02/emotions_full.csv\")\n",
    "\n",
    "bert = SentenceTransformer('paraphrase-MiniLM-L6-v2')\n",
    "encoded = bert.encode(df['lemma'].astype('str'), show_progress_bar=True)\n",
    "print(encoded.shape)"
   ]
  },
  {
   "cell_type": "code",
   "execution_count": 10,
   "id": "f7eba04d",
   "metadata": {},
   "outputs": [],
   "source": [
    "from CONST import MODELS\n",
    "from sklearn.feature_extraction.text import CountVectorizer\n",
    "def classify_input(input, df):\n",
    "    \"\"\"\n",
    "        uses CountVectorizer on input,\n",
    "        get predictions and probabilities\n",
    "    \n",
    "        params:\n",
    "            input: user input,\n",
    "            df: dataframe used\n",
    "    \n",
    "        returns:\n",
    "            list of name, prediction and probabilities,\n",
    "            for each model\n",
    "    \"\"\"\n",
    "    \n",
    "    #bert = SentenceTransformer('paraphrase-MiniLM-L6-v2')\n",
    "    #enc_bert = bert.encode(df['lemma'].astype('str'))\n",
    "    \n",
    "    vectorizer = CountVectorizer(ngram_range=(1, 2))\n",
    "    vectorizer.fit_transform(df[\"lemma\"].apply(lambda x: np.str_(x)))\n",
    "    enc = vectorizer.transform([input])\n",
    "\n",
    "    results = []\n",
    "    for mod in MODELS:\n",
    "        model = MODELS.get(mod)\n",
    "        # if mod.endswith(\"(BERT)\"):\n",
    "        #     enc = enc_bert\n",
    "        # else:\n",
    "        #     enc = enc_vect\n",
    "        pred = model.predict(enc)\n",
    "        probas = model.predict_proba(enc)\n",
    "        results.append([mod, pred, probas])\n",
    "    return results"
   ]
  },
  {
   "cell_type": "code",
   "execution_count": 11,
   "id": "26e3688c",
   "metadata": {},
   "outputs": [
    {
     "ename": "NameError",
     "evalue": "name 'MODELS' is not defined",
     "output_type": "error",
     "traceback": [
      "\u001b[0;31m---------------------------------------------------------------------------\u001b[0m",
      "\u001b[0;31mNameError\u001b[0m                                 Traceback (most recent call last)",
      "\u001b[0;32m<ipython-input-11-a2987acd078f>\u001b[0m in \u001b[0;36m<module>\u001b[0;34m\u001b[0m\n\u001b[0;32m----> 1\u001b[0;31m \u001b[0mresult\u001b[0m \u001b[0;34m=\u001b[0m \u001b[0mclassify_input\u001b[0m\u001b[0;34m(\u001b[0m\u001b[0;34m\"I like it\"\u001b[0m\u001b[0;34m,\u001b[0m \u001b[0mdf\u001b[0m\u001b[0;34m)\u001b[0m\u001b[0;34m\u001b[0m\u001b[0;34m\u001b[0m\u001b[0m\n\u001b[0m\u001b[1;32m      2\u001b[0m \u001b[0mprint\u001b[0m\u001b[0;34m(\u001b[0m\u001b[0mresult\u001b[0m\u001b[0;34m)\u001b[0m\u001b[0;34m\u001b[0m\u001b[0;34m\u001b[0m\u001b[0m\n",
      "\u001b[0;32m<ipython-input-10-2bcbefb56250>\u001b[0m in \u001b[0;36mclassify_input\u001b[0;34m(input, df)\u001b[0m\n\u001b[1;32m     22\u001b[0m \u001b[0;34m\u001b[0m\u001b[0m\n\u001b[1;32m     23\u001b[0m     \u001b[0mresults\u001b[0m \u001b[0;34m=\u001b[0m \u001b[0;34m[\u001b[0m\u001b[0;34m]\u001b[0m\u001b[0;34m\u001b[0m\u001b[0;34m\u001b[0m\u001b[0m\n\u001b[0;32m---> 24\u001b[0;31m     \u001b[0;32mfor\u001b[0m \u001b[0mmod\u001b[0m \u001b[0;32min\u001b[0m \u001b[0mMODELS\u001b[0m\u001b[0;34m:\u001b[0m\u001b[0;34m\u001b[0m\u001b[0;34m\u001b[0m\u001b[0m\n\u001b[0m\u001b[1;32m     25\u001b[0m         \u001b[0mmodel\u001b[0m \u001b[0;34m=\u001b[0m \u001b[0mMODELS\u001b[0m\u001b[0;34m.\u001b[0m\u001b[0mget\u001b[0m\u001b[0;34m(\u001b[0m\u001b[0mmod\u001b[0m\u001b[0;34m)\u001b[0m\u001b[0;34m\u001b[0m\u001b[0;34m\u001b[0m\u001b[0m\n\u001b[1;32m     26\u001b[0m         \u001b[0;31m# if mod.endswith(\"(BERT)\"):\u001b[0m\u001b[0;34m\u001b[0m\u001b[0;34m\u001b[0m\u001b[0;34m\u001b[0m\u001b[0m\n",
      "\u001b[0;31mNameError\u001b[0m: name 'MODELS' is not defined"
     ]
    }
   ],
   "source": [
    "result = classify_input(\"I like it\", df)\n",
    "print(result)\n"
   ]
  }
 ],
 "metadata": {
  "kernelspec": {
   "display_name": "Python 3.8.0 64-bit",
   "language": "python",
   "name": "python38064bit619561842459457499e8356ae17a2ba4"
  },
  "language_info": {
   "codemirror_mode": {
    "name": "ipython",
    "version": 3
   },
   "file_extension": ".py",
   "mimetype": "text/x-python",
   "name": "python",
   "nbconvert_exporter": "python",
   "pygments_lexer": "ipython3",
   "version": "3.8.0"
  }
 },
 "nbformat": 4,
 "nbformat_minor": 5
}
